{
 "cells": [
  {
   "cell_type": "code",
   "execution_count": 1,
   "id": "245cb21f-6643-4ab8-ba43-94eed99342e0",
   "metadata": {},
   "outputs": [
    {
     "name": "stdin",
     "output_type": "stream",
     "text": [
      "Enter Country here:  philippines\n",
      "Enter Country here:  japan\n"
     ]
    },
    {
     "name": "stdout",
     "output_type": "stream",
     "text": [
      "This is Philippines.\n",
      "                The capital of Philippines is Manila.\n",
      "                The currency that they have is the Philippine peso.\n",
      "                People also refer to Philippines as Republic of the Philippines\n",
      "                Are they landlocked you ask? False,\n",
      "                and they have an area of around 342,353.00\n",
      "                take a look of them in https://goo.gl/maps/k8T2fb5VMUfsWFX6A\n",
      "This is Japan.\n",
      "                The capital of Japan is Tokyo.\n",
      "                The currency that they have is the Japanese yen.\n",
      "                People also refer to Japan as Nippon\n",
      "                Are they landlocked you ask? False,\n",
      "                and they have an area of around 377,930.00\n",
      "                take a look of them in https://goo.gl/maps/NGTLSCSrA8bMrvnX9\n"
     ]
    }
   ],
   "source": [
    "import requests\n",
    "\n",
    "def country_input():\n",
    "    name = input('Enter Country here: ')\n",
    "    url = f'https://restcountries.com/v3.1/name/{name}?fullText=true'\n",
    "    response: list[dict] = requests.get(url)\n",
    "    data = response.json()\n",
    "    country_name: str = data[0]['name']['common']\n",
    "    country_cap: str = data[0]['capital'][0]\n",
    "    country_curr: str = list(data[0]['currencies'].values())[0]['name']\n",
    "    country_alt: str = data[0]['altSpellings'][1]\n",
    "    country_lock: bool = data[0]['landlocked']\n",
    "    country_area: int = data[0]['area']\n",
    "    country_maps: str = data[0]['maps']['googleMaps']\n",
    "\n",
    "    return country_name, country_cap, country_curr, country_alt, country_lock, country_area, country_maps\n",
    "\n",
    "\n",
    "class Country():\n",
    "    def __init__(self, name, cap, curr, alt, lock, area, maps):\n",
    "        self.name: str = name\n",
    "        self.cap: str = cap\n",
    "        self.curr: str = curr\n",
    "        self.alt: str = alt\n",
    "        self.lock: bool = lock\n",
    "        self.area: int = area\n",
    "        self.maps: str = maps\n",
    "        \n",
    "    def __str__(self):\n",
    "                return f'''This is {self.name}.\n",
    "                The capital of {self.name} is {self.cap}.\n",
    "                The currency that they have is the {self.curr}.\n",
    "                People also refer to {self.name} as {self.alt}\n",
    "                Are they landlocked you ask? {self.lock},\n",
    "                and they have an area of around {self.area:,.2f}\n",
    "                take a look of them in {self.maps}'''\n",
    "        \n",
    "country_1_data = country_input()\n",
    "country_1 = Country(*country_1_data)\n",
    "country_2_data = country_input()\n",
    "country_2 = Country(*country_2_data)\n",
    "\n",
    "print(country_1)\n",
    "print(country_2)\n"
   ]
  },
  {
   "cell_type": "code",
   "execution_count": null,
   "id": "6d3e773d-c10c-44a9-ac74-e86cdbde2e0a",
   "metadata": {},
   "outputs": [],
   "source": []
  }
 ],
 "metadata": {
  "kernelspec": {
   "display_name": "Python 3 (ipykernel)",
   "language": "python",
   "name": "python3"
  },
  "language_info": {
   "codemirror_mode": {
    "name": "ipython",
    "version": 3
   },
   "file_extension": ".py",
   "mimetype": "text/x-python",
   "name": "python",
   "nbconvert_exporter": "python",
   "pygments_lexer": "ipython3",
   "version": "3.13.5"
  }
 },
 "nbformat": 4,
 "nbformat_minor": 5
}
