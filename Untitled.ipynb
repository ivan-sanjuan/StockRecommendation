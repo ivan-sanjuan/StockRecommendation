{
 "cells": [
  {
   "cell_type": "code",
   "execution_count": 17,
   "id": "de28da98-3bd5-4cd2-8990-4db061fe3c8c",
   "metadata": {},
   "outputs": [
    {
     "name": "stdin",
     "output_type": "stream",
     "text": [
      "Enter a stock ticker:  AMD\n"
     ]
    },
    {
     "name": "stdout",
     "output_type": "stream",
     "text": [
      "💼 Company Name: Advanced Micro Devices, Inc.\n",
      "💰 Stock Price: $138.715\n",
      "🏢 Market Capitalization $224,912,506,880\n",
      "📈 Price-to-Earnings Ratio: 102.00\n",
      "  period  strongBuy  buy  hold  sell  strongSell\n",
      "0     0m          7   27    16     0           0\n",
      "1    -1m          7   27    17     0           0\n",
      "column not found\n"
     ]
    }
   ],
   "source": [
    "import yfinance as yf\n",
    "\n",
    "def fetch_summary(ticker):\n",
    "    stock = yf.Ticker(ticker)\n",
    "    NAME = stock.info.get(\"longName\", \"Name not available\")\n",
    "    PRICE = stock.info[\"regularMarketPrice\"]\n",
    "    CAP = stock.info[\"marketCap\"]\n",
    "    PE = stock.info[\"trailingPE\"]\n",
    "    \n",
    "    print(f\"💼 Company Name: {NAME}\")\n",
    "    print(f\"💰 Stock Price: ${PRICE}\")\n",
    "    print(f\"🏢 Market Capitalization ${CAP:,}\")\n",
    "    print(f\"📈 Price-to-Earnings Ratio: {PE:,.2f}\")\n",
    "    \n",
    "    if not stock.recommendations.empty:\n",
    "        print(stock.recommendations.head(2))\n",
    "        if \"fromGrade\" in stock.recommendations.columns:\n",
    "            print(stock.recommendations[\"toGrade\"])\n",
    "        else:\n",
    "            print(\"column not found\")\n",
    "    else: \n",
    "        print(\"no recommendations available.\")\n",
    "    \n",
    "ticker_input = input(\"Enter a stock ticker: \")\n",
    "fetch_summary(ticker_input)"
   ]
  },
  {
   "cell_type": "code",
   "execution_count": null,
   "id": "54936d04-f8cf-42fc-a288-65411aef360a",
   "metadata": {},
   "outputs": [],
   "source": []
  }
 ],
 "metadata": {
  "kernelspec": {
   "display_name": "Python 3 (ipykernel)",
   "language": "python",
   "name": "python3"
  },
  "language_info": {
   "codemirror_mode": {
    "name": "ipython",
    "version": 3
   },
   "file_extension": ".py",
   "mimetype": "text/x-python",
   "name": "python",
   "nbconvert_exporter": "python",
   "pygments_lexer": "ipython3",
   "version": "3.13.5"
  }
 },
 "nbformat": 4,
 "nbformat_minor": 5
}
